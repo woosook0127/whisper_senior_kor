{
 "cells": [
  {
   "cell_type": "markdown",
   "id": "80656320-d738-4de6-8dea-f4a2ceee9988",
   "metadata": {},
   "source": [
    "# 1. Dataset preprocessing\n",
    "### 1-1. Data structure\n",
    "         ─/data/freetalk_senior\n",
    "            ├─2.Validation\n",
    "            │  ├─1.labeled_data\n",
    "            │  │  ├─1.AI챗봇\n",
    "            │  │  │  └─1.AI챗봇_라벨링_자유대화(노인남여)_VALIDATION.zip | 50 MB | 48677\n",
    "            │  │  ├─2.음성수집도구\n",
    "            │  │  │  └─2.음성수집도구_라벨링_자유대화(노인남여)_VALIDATION.zip | 105 MB | 48678\n",
    "            │  │  ├─3.스튜디오\n",
    "            │  │  │  └─3.스튜디오_라벨링_자유대화(노인남여)_VALIDATION.zip | 20 MB | 48679\n",
    "            │  │  └─4.AI스피커\n",
    "            │  │      └─4.AI스피커_라벨링_자유대화(노인남여)_VALIDATION.zip | 13 MB | 48680\n",
    "            │  └─2.raw_data\n",
    "            │      ├─1.AI챗봇\n",
    "            │      │  └─1.AI챗봇_자유대화(노인남여)_VALIDATION.zip | 7 GB | 48681\n",
    "            │      ├─2.음성수집도구\n",
    "            │      │  └─2.음성수집도구_자유대화(노인남여)_VALIDATION.zip | 21 GB | 48682\n",
    "            │      ├─3.스튜디오\n",
    "            │      │  └─3.스튜디오_자유대화(노인남여)_VALIDATION.zip | 3 GB | 48683\n",
    "            │      └─4.AI스피커\n",
    "            │          └─4.AI스피커_자유대화(노인남여)_VALIDATION.zip | 2 GB | 48684\n",
    "            └─1.Training\n",
    "                ├─1.labeled data\n",
    "                │  ├─1.AI챗봇\n",
    "                │  │  └─1.AI챗봇_라벨링_자유대화(노인남여)_TRAINING.zip | 405 MB | 48663\n",
    "                │  ├─2.음성수집도구\n",
    "                │  │  └─2.음성수집도구_라벨링_자유대화(노인남여)_TRAINING.zip | 718 MB | 48664\n",
    "                │  ├─3.스튜디오\n",
    "                │  │  └─3.스튜디오_라벨링_자유대화(노인남여)_TRAINING.zip | 156 MB | 48665\n",
    "                │  └─4.AI스피커\n",
    "                │      └─4.AI스피커_라벨링_자유대화(노인남여)_TRAINING.zip | 92 MB | 48666\n",
    "                └─2.raw_data\n",
    "                   ├─1.AI챗봇\n",
    "                   │  ├─1.AI챗봇_1_자유대화(노인남여)_TRAINING.zip | 28 GB | 48667\n",
    "                   │  └─1.AI챗봇_2_자유대화(노인남여)_TRAINING.zip | 29 GB | 48668\n",
    "                   ├─2.음성수집도구\n",
    "                   │  ├─2.음성수집도구_1_자유대화(노인남여)_TRAINING.zip | 29 GB | 48669\n",
    "                   │  ├─2.음성수집도구_2_자유대화(노인남여)_TRAINING.zip | 28 GB | 48670\n",
    "                   │  ├─2.음성수집도구_3_자유대화(노인남여)_TRAINING.zip | 27 GB | 48671\n",
    "                   │  ├─2.음성수집도구_4_자유대화(노인남여)_TRAINING.zip | 29 GB | 48672\n",
    "                   │  ├─2.음성수집도구_5_자유대화(노인남여)_TRAINING.zip | 28 GB | 48673\n",
    "                   │  └─2.음성수집도구_6_자유대화(노인남여)_TRAINING.zip | 27 GB | 48674\n",
    "                   ├─3.스튜디오\n",
    "                   │  └─3.스튜디오_자유대화(노인남여)_TRAINING.zip | 27 GB | 48675\n",
    "                   └─4.AI스피커\n",
    "                      └─4.AI스피커_자유대화(노인남여)_TRAINING.zip | 20 GB | 48676"
   ]
  },
  {
   "cell_type": "markdown",
   "id": "4bc33f38-dec4-4c1a-af18-d36baeddb902",
   "metadata": {},
   "source": [
    "### 1-2. Data가 너무 크니 일부만 test 해본다\n"
   ]
  },
  {
   "cell_type": "code",
   "execution_count": 30,
   "id": "5abf8074-8abc-49af-8192-52e12cdacbcd",
   "metadata": {},
   "outputs": [
    {
     "data": {
      "application/vnd.jupyter.widget-view+json": {
       "model_id": "76ed19b0b43b4f64b78b0857da216fca",
       "version_major": 2,
       "version_minor": 0
      },
      "text/plain": [
       "Resolving data files:   0%|          | 0/268 [00:00<?, ?it/s]"
      ]
     },
     "metadata": {},
     "output_type": "display_data"
    },
    {
     "data": {
      "application/vnd.jupyter.widget-view+json": {
       "model_id": "907266b7626742f2a4da416a51985c3b",
       "version_major": 2,
       "version_minor": 0
      },
      "text/plain": [
       "Resolving data files:   0%|          | 0/268 [00:00<?, ?it/s]"
      ]
     },
     "metadata": {},
     "output_type": "display_data"
    },
    {
     "data": {
      "application/vnd.jupyter.widget-view+json": {
       "model_id": "04c34a61419744febec957bcb07eea34",
       "version_major": 2,
       "version_minor": 0
      },
      "text/plain": [
       "Downloading data:   0%|          | 0/268 [00:00<?, ?files/s]"
      ]
     },
     "metadata": {},
     "output_type": "display_data"
    },
    {
     "data": {
      "application/vnd.jupyter.widget-view+json": {
       "model_id": "976551d450f248a5ac4047f65415d377",
       "version_major": 2,
       "version_minor": 0
      },
      "text/plain": [
       "Generating train split: 0 examples [00:00, ? examples/s]"
      ]
     },
     "metadata": {},
     "output_type": "display_data"
    }
   ],
   "source": [
    "import os\n",
    "import random\n",
    "from datasets import load_dataset\n",
    "\n",
    "data_files= {\n",
    "    \"input\": r\"/data/freetalk_senior/1.Training/raw_data/1.AI챗봇/1.AI챗봇_1_자유대화(노인남여)_TRAINING/노인남여_노인대화07_F_1527804469_64_강원_실내/*\",\n",
    "    \"label\": r\"/data/freetalk_senior/1.Training/labeled_data/1.AI챗봇/1.AI챗봇_라벨링_자유대화(노인남여)_TRAINING/노인남여_노인대화07_F_1527804469_64_강원_실내/*.json\"\n",
    "}\n",
    "\n",
    "# json file 구조가 \"data\": [{data1}, {data2}, ...] 처럼 되어있지 않고 \n",
    "# {data1}, {data2}, ... 이므로 field=\"data\" 와 같이 필드 지정하면 오류남\n",
    "qna_dataset_input = load_dataset(\"audiofolder\", data_files=data_files[\"input\"])\n",
    "qna_dataset_label = load_dataset(\"json\", data_files=data_files[\"label\"])"
   ]
  },
  {
   "cell_type": "code",
   "execution_count": 57,
   "id": "57bb1f26-cede-4def-bd1e-da5b8f74b48e",
   "metadata": {},
   "outputs": [
    {
     "ename": "ValueError",
     "evalue": "Expected a list of Dataset objects or a list of IterableDataset objects, but element at position 0 is a str.",
     "output_type": "error",
     "traceback": [
      "\u001b[0;31m---------------------------------------------------------------------------\u001b[0m",
      "\u001b[0;31mValueError\u001b[0m                                Traceback (most recent call last)",
      "Cell \u001b[0;32mIn[57], line 4\u001b[0m\n\u001b[1;32m      2\u001b[0m \u001b[38;5;28;01mfrom\u001b[39;00m \u001b[38;5;21;01mdatasets\u001b[39;00m \u001b[38;5;28;01mimport\u001b[39;00m DatasetDict\n\u001b[1;32m      3\u001b[0m \u001b[38;5;28;01mimport\u001b[39;00m \u001b[38;5;21;01mdatasets\u001b[39;00m\n\u001b[0;32m----> 4\u001b[0m DatasetDict({\u001b[38;5;124m\"\u001b[39m\u001b[38;5;124mtrain\u001b[39m\u001b[38;5;124m\"\u001b[39m: \u001b[43mdatasets\u001b[49m\u001b[38;5;241;43m.\u001b[39;49m\u001b[43mconcatenate_datasets\u001b[49m\u001b[43m(\u001b[49m\u001b[43mqna_dataset_input\u001b[49m\u001b[43m,\u001b[49m\u001b[43m \u001b[49m\u001b[43mqna_dataset_label\u001b[49m\u001b[43m)\u001b[49m})\n",
      "File \u001b[0;32m~/anaconda3/envs/whisper_kor/lib/python3.9/site-packages/datasets/combine.py:201\u001b[0m, in \u001b[0;36mconcatenate_datasets\u001b[0;34m(dsets, info, split, axis)\u001b[0m\n\u001b[1;32m    193\u001b[0m             \u001b[38;5;28;01mraise\u001b[39;00m \u001b[38;5;167;01mValueError\u001b[39;00m(\n\u001b[1;32m    194\u001b[0m                 \u001b[38;5;124mf\u001b[39m\u001b[38;5;124m\"\u001b[39m\u001b[38;5;124mExpected a list of Dataset objects or a list of IterableDataset objects, but element at position \u001b[39m\u001b[38;5;132;01m{\u001b[39;00mi\u001b[38;5;132;01m}\u001b[39;00m\u001b[38;5;124m \u001b[39m\u001b[38;5;124m\"\u001b[39m\n\u001b[1;32m    195\u001b[0m                 \u001b[38;5;124m\"\u001b[39m\u001b[38;5;124mis an empty dataset dictionary.\u001b[39m\u001b[38;5;124m\"\u001b[39m\n\u001b[1;32m    196\u001b[0m             )\n\u001b[1;32m    197\u001b[0m         \u001b[38;5;28;01mraise\u001b[39;00m \u001b[38;5;167;01mValueError\u001b[39;00m(\n\u001b[1;32m    198\u001b[0m             \u001b[38;5;124mf\u001b[39m\u001b[38;5;124m\"\u001b[39m\u001b[38;5;124mDataset at position \u001b[39m\u001b[38;5;132;01m{\u001b[39;00mi\u001b[38;5;132;01m}\u001b[39;00m\u001b[38;5;124m has at least one split: \u001b[39m\u001b[38;5;132;01m{\u001b[39;00m\u001b[38;5;28mlist\u001b[39m(dataset)\u001b[38;5;132;01m}\u001b[39;00m\u001b[38;5;130;01m\\n\u001b[39;00m\u001b[38;5;124m\"\u001b[39m\n\u001b[1;32m    199\u001b[0m             \u001b[38;5;124mf\u001b[39m\u001b[38;5;124m\"\u001b[39m\u001b[38;5;124mPlease pick one to interleave with the other datasets, for example: dataset[\u001b[39m\u001b[38;5;124m'\u001b[39m\u001b[38;5;132;01m{\u001b[39;00m\u001b[38;5;28mnext\u001b[39m(\u001b[38;5;28miter\u001b[39m(dataset))\u001b[38;5;132;01m}\u001b[39;00m\u001b[38;5;124m'\u001b[39m\u001b[38;5;124m]\u001b[39m\u001b[38;5;124m\"\u001b[39m\n\u001b[1;32m    200\u001b[0m         )\n\u001b[0;32m--> 201\u001b[0m     \u001b[38;5;28;01mraise\u001b[39;00m \u001b[38;5;167;01mValueError\u001b[39;00m(\n\u001b[1;32m    202\u001b[0m         \u001b[38;5;124mf\u001b[39m\u001b[38;5;124m\"\u001b[39m\u001b[38;5;124mExpected a list of Dataset objects or a list of IterableDataset objects, but element at position \u001b[39m\u001b[38;5;132;01m{\u001b[39;00mi\u001b[38;5;132;01m}\u001b[39;00m\u001b[38;5;124m is a \u001b[39m\u001b[38;5;132;01m{\u001b[39;00m\u001b[38;5;28mtype\u001b[39m(dataset)\u001b[38;5;241m.\u001b[39m\u001b[38;5;18m__name__\u001b[39m\u001b[38;5;132;01m}\u001b[39;00m\u001b[38;5;124m.\u001b[39m\u001b[38;5;124m\"\u001b[39m\n\u001b[1;32m    203\u001b[0m     )\n\u001b[1;32m    204\u001b[0m \u001b[38;5;28;01mif\u001b[39;00m i \u001b[38;5;241m==\u001b[39m \u001b[38;5;241m0\u001b[39m:\n\u001b[1;32m    205\u001b[0m     dataset_type, other_type \u001b[38;5;241m=\u001b[39m (\n\u001b[1;32m    206\u001b[0m         (Dataset, IterableDataset) \u001b[38;5;28;01mif\u001b[39;00m \u001b[38;5;28misinstance\u001b[39m(dataset, Dataset) \u001b[38;5;28;01melse\u001b[39;00m (IterableDataset, Dataset)\n\u001b[1;32m    207\u001b[0m     )\n",
      "\u001b[0;31mValueError\u001b[0m: Expected a list of Dataset objects or a list of IterableDataset objects, but element at position 0 is a str."
     ]
    }
   ],
   "source": [
    "import numpy as np\n",
    "from datasets import DatasetDict\n",
    "import datasets"
   ]
  },
  {
   "cell_type": "code",
   "execution_count": null,
   "id": "062bf010-54ea-474a-a0c9-b53cfd8ec5b7",
   "metadata": {},
   "outputs": [],
   "source": []
  },
  {
   "cell_type": "code",
   "execution_count": null,
   "id": "948dc72d-fd86-4a23-b493-ae8bc9c435a7",
   "metadata": {},
   "outputs": [],
   "source": []
  },
  {
   "cell_type": "code",
   "execution_count": null,
   "id": "8347a712-5c17-41e5-8276-3384b35d36e2",
   "metadata": {},
   "outputs": [],
   "source": []
  }
 ],
 "metadata": {
  "kernelspec": {
   "display_name": "whisper_kor",
   "language": "python",
   "name": "whisper_kor"
  },
  "language_info": {
   "codemirror_mode": {
    "name": "ipython",
    "version": 3
   },
   "file_extension": ".py",
   "mimetype": "text/x-python",
   "name": "python",
   "nbconvert_exporter": "python",
   "pygments_lexer": "ipython3",
   "version": "3.9.19"
  }
 },
 "nbformat": 4,
 "nbformat_minor": 5
}
