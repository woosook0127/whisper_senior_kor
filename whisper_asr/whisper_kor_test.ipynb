{
 "cells": [
  {
   "cell_type": "code",
   "execution_count": 1,
   "id": "ee31053d-6701-48fd-b2e4-666cd43ef7f8",
   "metadata": {},
   "outputs": [],
   "source": [
    "import transformers\n",
    "# from transformers import pipeline"
   ]
  },
  {
   "cell_type": "code",
   "execution_count": 3,
   "id": "8f600625-6716-4381-9d43-aecbf5861501",
   "metadata": {},
   "outputs": [
    {
     "name": "stderr",
     "output_type": "stream",
     "text": [
      "/home/wooseok/anaconda3/envs/whisper_kor/lib/python3.9/site-packages/huggingface_hub/file_download.py:1132: FutureWarning: `resume_download` is deprecated and will be removed in version 1.0.0. Downloads always resume when possible. If you want to force a new download, use `force_download=True`.\n",
      "  warnings.warn(\n"
     ]
    },
    {
     "data": {
      "application/vnd.jupyter.widget-view+json": {
       "model_id": "a5633b87a8cc494ba88edea28d4eb5b9",
       "version_major": 2,
       "version_minor": 0
      },
      "text/plain": [
       "preprocessor_config.json:   0%|          | 0.00/339 [00:00<?, ?B/s]"
      ]
     },
     "metadata": {},
     "output_type": "display_data"
    },
    {
     "data": {
      "application/vnd.jupyter.widget-view+json": {
       "model_id": "f9a574177ce64d348368bf34ca1caa9a",
       "version_major": 2,
       "version_minor": 0
      },
      "text/plain": [
       "tokenizer_config.json:   0%|          | 0.00/805 [00:00<?, ?B/s]"
      ]
     },
     "metadata": {},
     "output_type": "display_data"
    },
    {
     "data": {
      "application/vnd.jupyter.widget-view+json": {
       "model_id": "212beafe9b8947e28f2d12694701cfce",
       "version_major": 2,
       "version_minor": 0
      },
      "text/plain": [
       "vocab.json:   0%|          | 0.00/1.04M [00:00<?, ?B/s]"
      ]
     },
     "metadata": {},
     "output_type": "display_data"
    },
    {
     "data": {
      "application/vnd.jupyter.widget-view+json": {
       "model_id": "0a763776b6e145c3adc7cebdb6e0c5d9",
       "version_major": 2,
       "version_minor": 0
      },
      "text/plain": [
       "merges.txt:   0%|          | 0.00/494k [00:00<?, ?B/s]"
      ]
     },
     "metadata": {},
     "output_type": "display_data"
    },
    {
     "data": {
      "application/vnd.jupyter.widget-view+json": {
       "model_id": "13088d484d9944448c28f6e0418f7d5f",
       "version_major": 2,
       "version_minor": 0
      },
      "text/plain": [
       "normalizer.json:   0%|          | 0.00/52.7k [00:00<?, ?B/s]"
      ]
     },
     "metadata": {},
     "output_type": "display_data"
    },
    {
     "data": {
      "application/vnd.jupyter.widget-view+json": {
       "model_id": "8664c5c533664b7f908811f67b46a2c0",
       "version_major": 2,
       "version_minor": 0
      },
      "text/plain": [
       "added_tokens.json:   0%|          | 0.00/34.6k [00:00<?, ?B/s]"
      ]
     },
     "metadata": {},
     "output_type": "display_data"
    },
    {
     "data": {
      "application/vnd.jupyter.widget-view+json": {
       "model_id": "ebc148af50334b02bb6ca24810006a61",
       "version_major": 2,
       "version_minor": 0
      },
      "text/plain": [
       "special_tokens_map.json:   0%|          | 0.00/2.08k [00:00<?, ?B/s]"
      ]
     },
     "metadata": {},
     "output_type": "display_data"
    },
    {
     "name": "stderr",
     "output_type": "stream",
     "text": [
      "Special tokens have been added in the vocabulary, make sure the associated word embeddings are fine-tuned or trained.\n"
     ]
    },
    {
     "data": {
      "application/vnd.jupyter.widget-view+json": {
       "model_id": "1bf3fa9186044f6583f69d8e3d7ec7d6",
       "version_major": 2,
       "version_minor": 0
      },
      "text/plain": [
       "config.json:   0%|          | 0.00/1.32k [00:00<?, ?B/s]"
      ]
     },
     "metadata": {},
     "output_type": "display_data"
    },
    {
     "data": {
      "application/vnd.jupyter.widget-view+json": {
       "model_id": "e8327cf6e3a64627b2b1a580d1227fa4",
       "version_major": 2,
       "version_minor": 0
      },
      "text/plain": [
       "pytorch_model.bin:   0%|          | 0.00/967M [00:00<?, ?B/s]"
      ]
     },
     "metadata": {},
     "output_type": "display_data"
    },
    {
     "data": {
      "application/vnd.jupyter.widget-view+json": {
       "model_id": "9c248e87395e453083678c071536124c",
       "version_major": 2,
       "version_minor": 0
      },
      "text/plain": [
       "generation_config.json:   0%|          | 0.00/3.83k [00:00<?, ?B/s]"
      ]
     },
     "metadata": {},
     "output_type": "display_data"
    }
   ],
   "source": [
    "# Load model directly\n",
    "from transformers import AutoProcessor, AutoModelForSpeechSeq2Seq\n",
    "\n",
    "processor = AutoProcessor.from_pretrained(\"jiwon65/whisper-small_korean-zeroth\")\n",
    "model = AutoModelForSpeechSeq2Seq.from_pretrained(\"jiwon65/whisper-small_korean-zeroth\")"
   ]
  },
  {
   "cell_type": "code",
   "execution_count": 5,
   "id": "d9a6cfeb-1008-4117-a3c0-8c586ae6aa68",
   "metadata": {
    "scrolled": true
   },
   "outputs": [
    {
     "data": {
      "text/plain": [
       "WhisperConfig {\n",
       "  \"_name_or_path\": \"jiwon65/whisper-small_korean-zeroth\",\n",
       "  \"activation_dropout\": 0.0,\n",
       "  \"activation_function\": \"gelu\",\n",
       "  \"apply_spec_augment\": false,\n",
       "  \"architectures\": [\n",
       "    \"WhisperForConditionalGeneration\"\n",
       "  ],\n",
       "  \"attention_dropout\": 0.0,\n",
       "  \"begin_suppress_tokens\": [\n",
       "    220,\n",
       "    50257\n",
       "  ],\n",
       "  \"bos_token_id\": 50257,\n",
       "  \"classifier_proj_size\": 256,\n",
       "  \"d_model\": 768,\n",
       "  \"decoder_attention_heads\": 12,\n",
       "  \"decoder_ffn_dim\": 3072,\n",
       "  \"decoder_layerdrop\": 0.0,\n",
       "  \"decoder_layers\": 12,\n",
       "  \"decoder_start_token_id\": 50258,\n",
       "  \"dropout\": 0.0,\n",
       "  \"encoder_attention_heads\": 12,\n",
       "  \"encoder_ffn_dim\": 3072,\n",
       "  \"encoder_layerdrop\": 0.0,\n",
       "  \"encoder_layers\": 12,\n",
       "  \"eos_token_id\": 50257,\n",
       "  \"forced_decoder_ids\": null,\n",
       "  \"init_std\": 0.02,\n",
       "  \"is_encoder_decoder\": true,\n",
       "  \"mask_feature_length\": 10,\n",
       "  \"mask_feature_min_masks\": 0,\n",
       "  \"mask_feature_prob\": 0.0,\n",
       "  \"mask_time_length\": 10,\n",
       "  \"mask_time_min_masks\": 2,\n",
       "  \"mask_time_prob\": 0.05,\n",
       "  \"max_length\": 448,\n",
       "  \"max_source_positions\": 1500,\n",
       "  \"max_target_positions\": 448,\n",
       "  \"median_filter_width\": 7,\n",
       "  \"model_type\": \"whisper\",\n",
       "  \"num_hidden_layers\": 12,\n",
       "  \"num_mel_bins\": 80,\n",
       "  \"pad_token_id\": 50257,\n",
       "  \"scale_embedding\": false,\n",
       "  \"suppress_tokens\": [],\n",
       "  \"torch_dtype\": \"float32\",\n",
       "  \"transformers_version\": \"4.37.2\",\n",
       "  \"use_cache\": true,\n",
       "  \"use_weighted_layer_sum\": false,\n",
       "  \"vocab_size\": 51865\n",
       "}"
      ]
     },
     "execution_count": 5,
     "metadata": {},
     "output_type": "execute_result"
    }
   ],
   "source": [
    "model.config"
   ]
  },
  {
   "cell_type": "code",
   "execution_count": 13,
   "id": "1a4023b5-0757-4fcf-8a06-91ec643a7232",
   "metadata": {},
   "outputs": [
    {
     "data": {
      "text/plain": [
       "Dataset({\n",
       "    features: ['path', 'audio', 'transcription', 'english_transcription', 'intent_class', 'lang_id'],\n",
       "    num_rows: 654\n",
       "})"
      ]
     },
     "execution_count": 13,
     "metadata": {},
     "output_type": "execute_result"
    }
   ],
   "source": [
    "from datasets import load_dataset\n",
    "\n",
    "minds = load_dataset(\"PolyAI/minds14\", name=\"en-AU\", split=\"train\")\n",
    "minds"
   ]
  },
  {
   "cell_type": "code",
   "execution_count": 14,
   "id": "ca377332-81f7-4a58-9b51-f18f67a083d3",
   "metadata": {},
   "outputs": [],
   "source": [
    "example = minds[0]"
   ]
  },
  {
   "cell_type": "code",
   "execution_count": 15,
   "id": "601fb68f-beb9-4a26-a032-b36bbd60e4c5",
   "metadata": {},
   "outputs": [
    {
     "data": {
      "text/plain": [
       "{'path': '/home/wooseok/.cache/huggingface/datasets/downloads/extracted/f8f1c36bb82cd7f4d04c144bdfa42296b2d0a3f2e4479e827eab779244d5d3ce/en-AU~PAY_BILL/response_4.wav',\n",
       " 'audio': {'path': '/home/wooseok/.cache/huggingface/datasets/downloads/extracted/f8f1c36bb82cd7f4d04c144bdfa42296b2d0a3f2e4479e827eab779244d5d3ce/en-AU~PAY_BILL/response_4.wav',\n",
       "  'array': array([ 0.        ,  0.00024414, -0.00024414, ..., -0.00024414,\n",
       "          0.00024414,  0.0012207 ]),\n",
       "  'sampling_rate': 8000},\n",
       " 'transcription': 'I would like to pay my electricity bill using my card can you please assist',\n",
       " 'english_transcription': 'I would like to pay my electricity bill using my card can you please assist',\n",
       " 'intent_class': 13,\n",
       " 'lang_id': 2}"
      ]
     },
     "execution_count": 15,
     "metadata": {},
     "output_type": "execute_result"
    }
   ],
   "source": [
    "example"
   ]
  },
  {
   "cell_type": "code",
   "execution_count": 16,
   "id": "dbaaf321-ca7a-49e3-923f-03418c08d91e",
   "metadata": {},
   "outputs": [],
   "source": [
    "audio = minds['audio']"
   ]
  },
  {
   "cell_type": "code",
   "execution_count": null,
   "id": "c716c5a3-19e8-4f21-8422-cac0eea69538",
   "metadata": {},
   "outputs": [],
   "source": []
  }
 ],
 "metadata": {
  "kernelspec": {
   "display_name": "whisper_kor",
   "language": "python",
   "name": "whisper_kor"
  },
  "language_info": {
   "codemirror_mode": {
    "name": "ipython",
    "version": 3
   },
   "file_extension": ".py",
   "mimetype": "text/x-python",
   "name": "python",
   "nbconvert_exporter": "python",
   "pygments_lexer": "ipython3",
   "version": "3.9.19"
  }
 },
 "nbformat": 4,
 "nbformat_minor": 5
}
