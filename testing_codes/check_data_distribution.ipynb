{
 "cells": [
  {
   "cell_type": "code",
   "execution_count": 1,
   "id": "54d8836e-53de-4621-9abc-e4d5b3b969a9",
   "metadata": {},
   "outputs": [],
   "source": [
    "# set GPU\n",
    "# torch 보다 먼저 import 해야 아래 사항이 적용된다\n",
    "import os\n",
    "\n",
    "os.environ[\"CUDA_DEVICE_ORDER\"]=\"PCI_BUS_ID\"  # Arrange GPU devices starting from 0\n",
    "os.environ[\"CUDA_VISIBLE_DEVICES\"]= \"1\"  # Set the GPU 1 to use\n",
    "os.environ[\"PYTORCH_CUDA_ALLOC_CONF\"] = \"expandable_segments:True\""
   ]
  },
  {
   "cell_type": "code",
   "execution_count": 2,
   "id": "1064b673-21b8-4363-bbea-7b054869e4a6",
   "metadata": {},
   "outputs": [],
   "source": [
    "import glob\n",
    "from datasets import load_dataset\n",
    "\n",
    "# File path\n",
    "training_raw_path = \"/data/freetalk_senior/1.Training/raw_data/1.AI챗봇/1.AI챗봇_2_자유대화(노인남여)_TRAINING/\"\n",
    "training_labeled_path = \"/data/freetalk_senior/1.Training/labeled_data/1.AI챗봇/1.AI챗봇_라벨링_자유대화(노인남여)_TRAINING/\"\n",
    "training_dir = [\n",
    "    \"노인남여_노인대화12_M_1534748575_63_강원_실내\",\n",
    "    \"노인남여_노인대화13_F_1527537495_69_강원_실내\",\n",
    "    \"노인남여_노인대화12_M_1554478480_62_수도권_실내\",\n",
    "    \"노인남여_노인대화13_F_1533490517_65_수도권_실내\",\n",
    "    \"노인남여_노인대화13_M_1532565861_61_전라_실내\",\n",
    "    \"노인남여_노인대화15_F_1535863537_62_전라_실내\",\n",
    "    \"노인남여_노인대화13_F_1555169713_66_기타_실내\",\n",
    "    \"노인남여_노인대화15_F_1540391606_71_기타_실내\",\n",
    "    \"노인남여_노인대화14_M_1542738257_68_경상_실내\",\n",
    "    \"노인남여_노인대화15_F_1534589663_68_경상_실내\",\n",
    "    \"노인남여_노인대화14_M_1531684542_70_충청_실내\",\n",
    "    \"노인남여_노인대화14_F_1534566769_66_충청_실내\"\n",
    "]\n",
    "#----------------------------------------------------------------------------------------------------------------\n",
    "validation_raw_path = \"/data/freetalk_senior/2.Validation/raw_data/1.AI챗봇/1.AI챗봇_자유대화(노인남여)_VALIDATION\"\n",
    "validation_labeled_path = \"/data/freetalk_senior/2.Validation/labeled_data/1.AI챗봇/1.AI챗봇_라벨링_자유대화(노인남여)_VALIDATION\"\n",
    "validation_dir = [\n",
    "    \"노인남여_노인대화07_M_1527639004_76_강원_실내\",\n",
    "    \"노인남여_노인대화07_F_1526732595_65_강원_실내\",\n",
    "    \"노인남여_노인대화07_M_1520916170_75_수도권_실내\",\n",
    "    \"노인남여_노인대화07_F_1520511716_63_수도권_실내\",\n",
    "    \"노인남여_노인대화12_M_1532565861_61_전라_실내\",\n",
    "    \"노인남여_자유대화_F_1521502420_62_전라_실내\",\n",
    "    \"노인남여_노인대화08_F_1524884567_60_기타_실내\",\n",
    "    \"노인남여_노인대화07_M_1527671642_80_경상_실내\",\n",
    "    \"노인남여_노인대화08_F_1529841959_62_경상_실내\",\n",
    "    \"노인남여_노인대화08_M_1528952078_70_충청_실내\",\n",
    "    \"노인남여_노인대화08_F_1527825984_71_충청_실내\",\n",
    "]\n",
    "#----------------------------------------------------------------------------------------------------------------\n",
    "training_raw_data = []\n",
    "training_raw_dir = [path + \"/*.wav\" for path in training_dir]\n",
    "for d in training_raw_dir:\n",
    "    training_raw_data.append(sorted(glob.glob(os.path.join(training_raw_path, d), recursive=True)))\n",
    "\n",
    "training_labeled_data = []\n",
    "training_labeled_dir = [path + \"/*.json\" for path in training_dir]\n",
    "for d in training_labeled_dir:\n",
    "    training_labeled_data.append(sorted(glob.glob(os.path.join(training_labeled_path, d), recursive=True)))\n",
    "#----------------------------------------------------------------------------------------------------------------\n",
    "validation_raw_data = []\n",
    "validation_raw_dir = [path + \"/*.wav\" for path in validation_dir]\n",
    "for d in validation_raw_dir:\n",
    "    validation_raw_data.append(sorted(glob.glob(os.path.join(validation_raw_path, d), recursive=True)))\n",
    "\n",
    "validation_labeled_data = []\n",
    "validation_labeled_dir = [path + \"/*.json\" for path in validation_dir]\n",
    "for d in validation_labeled_dir:\n",
    "    validation_labeled_data.append(sorted(glob.glob(os.path.join(validation_labeled_path, d), recursive=True)))"
   ]
  },
  {
   "cell_type": "code",
   "execution_count": 3,
   "id": "b4fe36d2-2120-4a54-92b2-3b5eb0e33d19",
   "metadata": {},
   "outputs": [
    {
     "name": "stdout",
     "output_type": "stream",
     "text": [
      "TRAINING:   raw:13394, label:13394\n",
      "VALIDATION: raw:9944, label:9944\n"
     ]
    }
   ],
   "source": [
    "print(f\"TRAINING:   raw:{sum(len(data) for data in training_raw_data)}, label:{sum(len(data) for data in training_labeled_data)}\")\n",
    "print(f\"VALIDATION: raw:{sum(len(data) for data in validation_raw_data)}, label:{sum(len(data) for data in validation_labeled_data)}\")"
   ]
  },
  {
   "cell_type": "code",
   "execution_count": 4,
   "id": "0ceae093-3a67-4119-9905-abb342ee6220",
   "metadata": {},
   "outputs": [],
   "source": [
    "data_files = {\n",
    "    \"train_input\": training_raw_data,    \n",
    "    \"train_label\": training_labeled_data,\n",
    "    \"validation_input\": validation_raw_data,    \n",
    "    \"validation_label\": validation_labeled_data,\n",
    "    \n",
    "}"
   ]
  },
  {
   "cell_type": "code",
   "execution_count": 5,
   "id": "86adb637-fc51-43d3-a4ea-699dc325cddb",
   "metadata": {
    "scrolled": true
   },
   "outputs": [
    {
     "data": {
      "application/vnd.jupyter.widget-view+json": {
       "model_id": "e457c9ae19be4b24af8a6d7c3f529b09",
       "version_major": 2,
       "version_minor": 0
      },
      "text/plain": [
       "Resolving data files:   0%|          | 0/500 [00:00<?, ?it/s]"
      ]
     },
     "metadata": {},
     "output_type": "display_data"
    },
    {
     "data": {
      "application/vnd.jupyter.widget-view+json": {
       "model_id": "2418295a87f64ffc8b720fb3e976937e",
       "version_major": 2,
       "version_minor": 0
      },
      "text/plain": [
       "Resolving data files:   0%|          | 0/556 [00:00<?, ?it/s]"
      ]
     },
     "metadata": {},
     "output_type": "display_data"
    },
    {
     "data": {
      "application/vnd.jupyter.widget-view+json": {
       "model_id": "6188dc98c62440dda715503162d03282",
       "version_major": 2,
       "version_minor": 0
      },
      "text/plain": [
       "Resolving data files:   0%|          | 0/1600 [00:00<?, ?it/s]"
      ]
     },
     "metadata": {},
     "output_type": "display_data"
    },
    {
     "data": {
      "application/vnd.jupyter.widget-view+json": {
       "model_id": "8cd194ae760145d98f940280aaf893dc",
       "version_major": 2,
       "version_minor": 0
      },
      "text/plain": [
       "Resolving data files:   0%|          | 0/1589 [00:00<?, ?it/s]"
      ]
     },
     "metadata": {},
     "output_type": "display_data"
    },
    {
     "data": {
      "application/vnd.jupyter.widget-view+json": {
       "model_id": "b770443001c54713a29e3824e9859248",
       "version_major": 2,
       "version_minor": 0
      },
      "text/plain": [
       "Resolving data files:   0%|          | 0/410 [00:00<?, ?it/s]"
      ]
     },
     "metadata": {},
     "output_type": "display_data"
    },
    {
     "data": {
      "application/vnd.jupyter.widget-view+json": {
       "model_id": "3f038135bd7c4eca8c78003c98cde071",
       "version_major": 2,
       "version_minor": 0
      },
      "text/plain": [
       "Resolving data files:   0%|          | 0/1598 [00:00<?, ?it/s]"
      ]
     },
     "metadata": {},
     "output_type": "display_data"
    },
    {
     "data": {
      "application/vnd.jupyter.widget-view+json": {
       "model_id": "4bf41d5e87234dd5aa91dc79ad574b05",
       "version_major": 2,
       "version_minor": 0
      },
      "text/plain": [
       "Resolving data files:   0%|          | 0/1594 [00:00<?, ?it/s]"
      ]
     },
     "metadata": {},
     "output_type": "display_data"
    },
    {
     "data": {
      "application/vnd.jupyter.widget-view+json": {
       "model_id": "e0ccd749581d484f9c5ff4dbfe4cbe5d",
       "version_major": 2,
       "version_minor": 0
      },
      "text/plain": [
       "Resolving data files:   0%|          | 0/1274 [00:00<?, ?it/s]"
      ]
     },
     "metadata": {},
     "output_type": "display_data"
    },
    {
     "data": {
      "application/vnd.jupyter.widget-view+json": {
       "model_id": "698cd77b7d8c493d93ff77473b4f99f3",
       "version_major": 2,
       "version_minor": 0
      },
      "text/plain": [
       "Resolving data files:   0%|          | 0/1595 [00:00<?, ?it/s]"
      ]
     },
     "metadata": {},
     "output_type": "display_data"
    },
    {
     "data": {
      "application/vnd.jupyter.widget-view+json": {
       "model_id": "b9f9e6b9f47d4ed382fc25d67247c009",
       "version_major": 2,
       "version_minor": 0
      },
      "text/plain": [
       "Resolving data files:   0%|          | 0/895 [00:00<?, ?it/s]"
      ]
     },
     "metadata": {},
     "output_type": "display_data"
    },
    {
     "data": {
      "application/vnd.jupyter.widget-view+json": {
       "model_id": "accfc83177ce44a49e5fdd90a64e1971",
       "version_major": 2,
       "version_minor": 0
      },
      "text/plain": [
       "Resolving data files:   0%|          | 0/887 [00:00<?, ?it/s]"
      ]
     },
     "metadata": {},
     "output_type": "display_data"
    },
    {
     "data": {
      "application/vnd.jupyter.widget-view+json": {
       "model_id": "65bdf2633af4495b893737442c6969a3",
       "version_major": 2,
       "version_minor": 0
      },
      "text/plain": [
       "Resolving data files:   0%|          | 0/896 [00:00<?, ?it/s]"
      ]
     },
     "metadata": {},
     "output_type": "display_data"
    },
    {
     "data": {
      "application/vnd.jupyter.widget-view+json": {
       "model_id": "063d591dee0a4d99bfcbe0227d3c4762",
       "version_major": 2,
       "version_minor": 0
      },
      "text/plain": [
       "Resolving data files:   0%|          | 0/500 [00:00<?, ?it/s]"
      ]
     },
     "metadata": {},
     "output_type": "display_data"
    },
    {
     "data": {
      "application/vnd.jupyter.widget-view+json": {
       "model_id": "3306a65ea27b494b8f737f6eae56f5fc",
       "version_major": 2,
       "version_minor": 0
      },
      "text/plain": [
       "Resolving data files:   0%|          | 0/556 [00:00<?, ?it/s]"
      ]
     },
     "metadata": {},
     "output_type": "display_data"
    },
    {
     "data": {
      "application/vnd.jupyter.widget-view+json": {
       "model_id": "c8c8c4fbc465495fab1588e8e0468656",
       "version_major": 2,
       "version_minor": 0
      },
      "text/plain": [
       "Resolving data files:   0%|          | 0/1600 [00:00<?, ?it/s]"
      ]
     },
     "metadata": {},
     "output_type": "display_data"
    },
    {
     "data": {
      "application/vnd.jupyter.widget-view+json": {
       "model_id": "1357677c87734fa9830c548b6d89e3f0",
       "version_major": 2,
       "version_minor": 0
      },
      "text/plain": [
       "Resolving data files:   0%|          | 0/1589 [00:00<?, ?it/s]"
      ]
     },
     "metadata": {},
     "output_type": "display_data"
    },
    {
     "data": {
      "application/vnd.jupyter.widget-view+json": {
       "model_id": "266b5b999f6e4e8ba8c44adfe492cae1",
       "version_major": 2,
       "version_minor": 0
      },
      "text/plain": [
       "Resolving data files:   0%|          | 0/410 [00:00<?, ?it/s]"
      ]
     },
     "metadata": {},
     "output_type": "display_data"
    },
    {
     "data": {
      "application/vnd.jupyter.widget-view+json": {
       "model_id": "b956b71ef7ec4593a13bdf8ca1d50805",
       "version_major": 2,
       "version_minor": 0
      },
      "text/plain": [
       "Resolving data files:   0%|          | 0/1598 [00:00<?, ?it/s]"
      ]
     },
     "metadata": {},
     "output_type": "display_data"
    },
    {
     "data": {
      "application/vnd.jupyter.widget-view+json": {
       "model_id": "62666d19812e4e68a99408517ec56746",
       "version_major": 2,
       "version_minor": 0
      },
      "text/plain": [
       "Resolving data files:   0%|          | 0/1594 [00:00<?, ?it/s]"
      ]
     },
     "metadata": {},
     "output_type": "display_data"
    },
    {
     "data": {
      "application/vnd.jupyter.widget-view+json": {
       "model_id": "547dd440636c496480d43254712b7203",
       "version_major": 2,
       "version_minor": 0
      },
      "text/plain": [
       "Resolving data files:   0%|          | 0/1274 [00:00<?, ?it/s]"
      ]
     },
     "metadata": {},
     "output_type": "display_data"
    },
    {
     "data": {
      "application/vnd.jupyter.widget-view+json": {
       "model_id": "f1127c0859a54846b0675834c6ee8522",
       "version_major": 2,
       "version_minor": 0
      },
      "text/plain": [
       "Resolving data files:   0%|          | 0/1595 [00:00<?, ?it/s]"
      ]
     },
     "metadata": {},
     "output_type": "display_data"
    },
    {
     "data": {
      "application/vnd.jupyter.widget-view+json": {
       "model_id": "91b71ca5e75b494e9658740533e9d16a",
       "version_major": 2,
       "version_minor": 0
      },
      "text/plain": [
       "Resolving data files:   0%|          | 0/895 [00:00<?, ?it/s]"
      ]
     },
     "metadata": {},
     "output_type": "display_data"
    },
    {
     "data": {
      "application/vnd.jupyter.widget-view+json": {
       "model_id": "9aa8a672f1904fa2a8e52ce3cbef0c2c",
       "version_major": 2,
       "version_minor": 0
      },
      "text/plain": [
       "Resolving data files:   0%|          | 0/887 [00:00<?, ?it/s]"
      ]
     },
     "metadata": {},
     "output_type": "display_data"
    },
    {
     "data": {
      "application/vnd.jupyter.widget-view+json": {
       "model_id": "3830e021d18147fba11a5288a28e1d8e",
       "version_major": 2,
       "version_minor": 0
      },
      "text/plain": [
       "Resolving data files:   0%|          | 0/896 [00:00<?, ?it/s]"
      ]
     },
     "metadata": {},
     "output_type": "display_data"
    }
   ],
   "source": [
    "# Load Dataset\n",
    "from datasets import Features, Audio\n",
    "import datasets \n",
    "\n",
    "# load_dataset 이 새로 만들어 버리는 label column 때문에 에러 발생하여 features명시\n",
    "features = Features({\n",
    "    'audio': Audio()\n",
    "})\n",
    "\n",
    "train_input = []\n",
    "for d in data_files['train_input']:\n",
    "    train_input.append(load_dataset(\"audiofolder\", \n",
    "                           data_files=d, \n",
    "                           features=features)\n",
    "                      )\n",
    "train_input = [x['train'] for x in train_input]\n",
    "train_input = datasets.DatasetDict({\n",
    "    \"train\": datasets.concatenate_datasets(train_input, axis=0)\n",
    "})\n",
    "\n",
    "train_label = []\n",
    "for d in data_files['train_label']:\n",
    "    train_label.append(load_dataset(\"json\", data_files=d)\n",
    "                      )\n",
    "train_label = [x['train'] for x in train_label]\n",
    "\n",
    "train_label = datasets.DatasetDict({\n",
    "    \"train\": datasets.concatenate_datasets(train_label, axis=0)\n",
    "})"
   ]
  },
  {
   "cell_type": "code",
   "execution_count": 6,
   "id": "d2ed65f3-5a4c-4115-963e-0a2e1ce01c49",
   "metadata": {},
   "outputs": [
    {
     "name": "stdout",
     "output_type": "stream",
     "text": [
      "DatasetDict({\n",
      "    train: Dataset({\n",
      "        features: ['audio', '발화정보', '대화정보', '녹음자정보'],\n",
      "        num_rows: 13394\n",
      "    })\n",
      "})\n"
     ]
    }
   ],
   "source": [
    "senior_dataset = datasets.DatasetDict({\n",
    "    \"train\": datasets.concatenate_datasets([train_input['train'], \n",
    "                                            train_label['train']], axis=1)\n",
    "})\n",
    "\n",
    "print(senior_dataset)"
   ]
  },
  {
   "cell_type": "code",
   "execution_count": 7,
   "id": "7d350358-0383-4123-96f9-2994d869f841",
   "metadata": {
    "scrolled": true
   },
   "outputs": [
    {
     "data": {
      "application/vnd.jupyter.widget-view+json": {
       "model_id": "7d730134e9eb434798fe90e1819bc25b",
       "version_major": 2,
       "version_minor": 0
      },
      "text/plain": [
       "Resolving data files:   0%|          | 0/1324 [00:00<?, ?it/s]"
      ]
     },
     "metadata": {},
     "output_type": "display_data"
    },
    {
     "data": {
      "application/vnd.jupyter.widget-view+json": {
       "model_id": "8c98febf0b834fe593344a9da8594708",
       "version_major": 2,
       "version_minor": 0
      },
      "text/plain": [
       "Resolving data files:   0%|          | 0/1599 [00:00<?, ?it/s]"
      ]
     },
     "metadata": {},
     "output_type": "display_data"
    },
    {
     "data": {
      "application/vnd.jupyter.widget-view+json": {
       "model_id": "f58b26ef4c614c8bacd8001a948f6da0",
       "version_major": 2,
       "version_minor": 0
      },
      "text/plain": [
       "Resolving data files:   0%|          | 0/480 [00:00<?, ?it/s]"
      ]
     },
     "metadata": {},
     "output_type": "display_data"
    },
    {
     "data": {
      "application/vnd.jupyter.widget-view+json": {
       "model_id": "6a86c2c058484c83b7b05ec7a6a54ce3",
       "version_major": 2,
       "version_minor": 0
      },
      "text/plain": [
       "Resolving data files:   0%|          | 0/1486 [00:00<?, ?it/s]"
      ]
     },
     "metadata": {},
     "output_type": "display_data"
    },
    {
     "data": {
      "application/vnd.jupyter.widget-view+json": {
       "model_id": "9460fcc0546642049b602c01018e88e1",
       "version_major": 2,
       "version_minor": 0
      },
      "text/plain": [
       "Resolving data files:   0%|          | 0/676 [00:00<?, ?it/s]"
      ]
     },
     "metadata": {},
     "output_type": "display_data"
    },
    {
     "data": {
      "application/vnd.jupyter.widget-view+json": {
       "model_id": "d5947d3042464433ad0a240f3f0e7606",
       "version_major": 2,
       "version_minor": 0
      },
      "text/plain": [
       "Resolving data files:   0%|          | 0/1262 [00:00<?, ?it/s]"
      ]
     },
     "metadata": {},
     "output_type": "display_data"
    },
    {
     "data": {
      "application/vnd.jupyter.widget-view+json": {
       "model_id": "2bf56ff234f440cd8b09e71aeb03ec70",
       "version_major": 2,
       "version_minor": 0
      },
      "text/plain": [
       "Resolving data files:   0%|          | 0/1501 [00:00<?, ?it/s]"
      ]
     },
     "metadata": {},
     "output_type": "display_data"
    },
    {
     "data": {
      "application/vnd.jupyter.widget-view+json": {
       "model_id": "a466b5dc020a4e8d8481690393e4dae9",
       "version_major": 2,
       "version_minor": 0
      },
      "text/plain": [
       "Resolving data files:   0%|          | 0/84 [00:00<?, ?it/s]"
      ]
     },
     "metadata": {},
     "output_type": "display_data"
    },
    {
     "data": {
      "application/vnd.jupyter.widget-view+json": {
       "model_id": "3d24e654e7334b79804d8742c1566413",
       "version_major": 2,
       "version_minor": 0
      },
      "text/plain": [
       "Resolving data files:   0%|          | 0/200 [00:00<?, ?it/s]"
      ]
     },
     "metadata": {},
     "output_type": "display_data"
    },
    {
     "data": {
      "application/vnd.jupyter.widget-view+json": {
       "model_id": "62b93873798a49b58ff1ceb7e1be5827",
       "version_major": 2,
       "version_minor": 0
      },
      "text/plain": [
       "Resolving data files:   0%|          | 0/198 [00:00<?, ?it/s]"
      ]
     },
     "metadata": {},
     "output_type": "display_data"
    },
    {
     "data": {
      "application/vnd.jupyter.widget-view+json": {
       "model_id": "e466cc37b0fb406b94526ac073d26a29",
       "version_major": 2,
       "version_minor": 0
      },
      "text/plain": [
       "Resolving data files:   0%|          | 0/1134 [00:00<?, ?it/s]"
      ]
     },
     "metadata": {},
     "output_type": "display_data"
    },
    {
     "data": {
      "application/vnd.jupyter.widget-view+json": {
       "model_id": "e9bc0d22c13d45a19f2caf35a5ca5a9c",
       "version_major": 2,
       "version_minor": 0
      },
      "text/plain": [
       "Resolving data files:   0%|          | 0/1324 [00:00<?, ?it/s]"
      ]
     },
     "metadata": {},
     "output_type": "display_data"
    },
    {
     "data": {
      "application/vnd.jupyter.widget-view+json": {
       "model_id": "f687366564ed41098ca858fec91fa345",
       "version_major": 2,
       "version_minor": 0
      },
      "text/plain": [
       "Resolving data files:   0%|          | 0/1599 [00:00<?, ?it/s]"
      ]
     },
     "metadata": {},
     "output_type": "display_data"
    },
    {
     "data": {
      "application/vnd.jupyter.widget-view+json": {
       "model_id": "d17deaa650284c2980d164a3f5d645f0",
       "version_major": 2,
       "version_minor": 0
      },
      "text/plain": [
       "Resolving data files:   0%|          | 0/480 [00:00<?, ?it/s]"
      ]
     },
     "metadata": {},
     "output_type": "display_data"
    },
    {
     "data": {
      "application/vnd.jupyter.widget-view+json": {
       "model_id": "fda564d61d864b809ae9101d33f1b060",
       "version_major": 2,
       "version_minor": 0
      },
      "text/plain": [
       "Resolving data files:   0%|          | 0/1486 [00:00<?, ?it/s]"
      ]
     },
     "metadata": {},
     "output_type": "display_data"
    },
    {
     "data": {
      "application/vnd.jupyter.widget-view+json": {
       "model_id": "2b92eaa830574fcb8b420070f8626d72",
       "version_major": 2,
       "version_minor": 0
      },
      "text/plain": [
       "Resolving data files:   0%|          | 0/676 [00:00<?, ?it/s]"
      ]
     },
     "metadata": {},
     "output_type": "display_data"
    },
    {
     "data": {
      "application/vnd.jupyter.widget-view+json": {
       "model_id": "b34cda30c13b4e128b87e2a4ee13ff16",
       "version_major": 2,
       "version_minor": 0
      },
      "text/plain": [
       "Resolving data files:   0%|          | 0/1262 [00:00<?, ?it/s]"
      ]
     },
     "metadata": {},
     "output_type": "display_data"
    },
    {
     "data": {
      "application/vnd.jupyter.widget-view+json": {
       "model_id": "f850da94d99149c892a6790a287f4a92",
       "version_major": 2,
       "version_minor": 0
      },
      "text/plain": [
       "Resolving data files:   0%|          | 0/1501 [00:00<?, ?it/s]"
      ]
     },
     "metadata": {},
     "output_type": "display_data"
    },
    {
     "data": {
      "application/vnd.jupyter.widget-view+json": {
       "model_id": "b3f076e43f3b491ca14c0d04238493bc",
       "version_major": 2,
       "version_minor": 0
      },
      "text/plain": [
       "Resolving data files:   0%|          | 0/84 [00:00<?, ?it/s]"
      ]
     },
     "metadata": {},
     "output_type": "display_data"
    },
    {
     "data": {
      "application/vnd.jupyter.widget-view+json": {
       "model_id": "7ecdf1e2040a47408e30a1074fffee0a",
       "version_major": 2,
       "version_minor": 0
      },
      "text/plain": [
       "Resolving data files:   0%|          | 0/200 [00:00<?, ?it/s]"
      ]
     },
     "metadata": {},
     "output_type": "display_data"
    },
    {
     "data": {
      "application/vnd.jupyter.widget-view+json": {
       "model_id": "b098d4c439214210ac80148fb3e5a194",
       "version_major": 2,
       "version_minor": 0
      },
      "text/plain": [
       "Resolving data files:   0%|          | 0/198 [00:00<?, ?it/s]"
      ]
     },
     "metadata": {},
     "output_type": "display_data"
    },
    {
     "data": {
      "application/vnd.jupyter.widget-view+json": {
       "model_id": "052f0d8ab9364c70853c86cedcb75c53",
       "version_major": 2,
       "version_minor": 0
      },
      "text/plain": [
       "Resolving data files:   0%|          | 0/1134 [00:00<?, ?it/s]"
      ]
     },
     "metadata": {},
     "output_type": "display_data"
    }
   ],
   "source": [
    "# Load Dataset\n",
    "from datasets import Features, Audio\n",
    "import datasets \n",
    "\n",
    "validation_input = []\n",
    "for d in data_files['validation_input']:\n",
    "    validation_input.append(load_dataset(\"audiofolder\", \n",
    "                           data_files=d, \n",
    "                           features=features)\n",
    "                      )\n",
    "validation_input = [x['train'] for x in validation_input]\n",
    "\n",
    "validation_input = datasets.DatasetDict({\n",
    "    \"validation\": datasets.concatenate_datasets(validation_input, axis=0)\n",
    "})\n",
    "\n",
    "validation_label = []\n",
    "for d in data_files['validation_label']:\n",
    "    validation_label.append(load_dataset(\"json\", data_files=d))\n",
    "    \n",
    "validation_label = [x['train'] for x in validation_label]\n",
    "\n",
    "validation_label = datasets.DatasetDict({\n",
    "    \"validation\": datasets.concatenate_datasets(validation_label, axis=0)\n",
    "})\n",
    "\n",
    "senior_dataset[\"validation\"] = datasets.concatenate_datasets([validation_input['validation'], \n",
    "                                                              validation_label['validation']], axis=1)\n"
   ]
  },
  {
   "cell_type": "code",
   "execution_count": 8,
   "id": "28e1a6f0-5cdd-4040-a3de-1a9d4c454cd9",
   "metadata": {},
   "outputs": [],
   "source": [
    "senior_dataset = senior_dataset.shuffle(seed=44)"
   ]
  },
  {
   "cell_type": "code",
   "execution_count": 9,
   "id": "21222dc3-79de-4119-93f6-b7dce836a1f3",
   "metadata": {},
   "outputs": [
    {
     "data": {
      "text/plain": [
       "DatasetDict({\n",
       "    train: Dataset({\n",
       "        features: ['audio', '발화정보', '대화정보', '녹음자정보'],\n",
       "        num_rows: 13394\n",
       "    })\n",
       "    validation: Dataset({\n",
       "        features: ['audio', '발화정보', '대화정보', '녹음자정보'],\n",
       "        num_rows: 9944\n",
       "    })\n",
       "})"
      ]
     },
     "execution_count": 9,
     "metadata": {},
     "output_type": "execute_result"
    }
   ],
   "source": [
    "senior_dataset"
   ]
  },
  {
   "cell_type": "code",
   "execution_count": 18,
   "id": "ce7887f9-0188-4e12-9894-8d8a9149ad5f",
   "metadata": {},
   "outputs": [],
   "source": [
    "train_speaker = senior_dataset['train']['녹음자정보']\n",
    "val_speaker = senior_dataset['validation']['녹음자정보']"
   ]
  },
  {
   "cell_type": "code",
   "execution_count": 20,
   "id": "78a5de8f-c9e6-4fd2-b679-7a5fbd05efe5",
   "metadata": {},
   "outputs": [
    {
     "data": {
      "text/plain": [
       "'1533490517'"
      ]
     },
     "execution_count": 20,
     "metadata": {},
     "output_type": "execute_result"
    }
   ],
   "source": [
    "train_speaker[0]['recorderId']"
   ]
  },
  {
   "cell_type": "code",
   "execution_count": null,
   "id": "5ba05275-33e6-4b16-961c-2501925da73b",
   "metadata": {},
   "outputs": [],
   "source": []
  },
  {
   "cell_type": "code",
   "execution_count": null,
   "id": "c6083c4d-c053-447a-8701-75ee82eeee20",
   "metadata": {},
   "outputs": [],
   "source": []
  },
  {
   "cell_type": "code",
   "execution_count": 21,
   "id": "8cbb6c4b-e6b1-4e01-b2eb-2b88f6f4706a",
   "metadata": {},
   "outputs": [],
   "source": [
    "dependent_speaker_train = []\n",
    "for data in train_speaker:\n",
    "    if (data['recorderId'] not in dependent_speaker_train):\n",
    "        dependent_speaker_train.append(data['recorderId'])\n",
    "\n",
    "dependent_speaker_val = []\n",
    "for data in val_speaker:\n",
    "    if (data['recorderId'] not in dependent_speaker_val):\n",
    "        dependent_speaker_val.append(data['recorderId'])"
   ]
  },
  {
   "cell_type": "code",
   "execution_count": 33,
   "id": "fce2d57a-d3e9-4522-939c-866e8039d1de",
   "metadata": {},
   "outputs": [
    {
     "name": "stdout",
     "output_type": "stream",
     "text": [
      "1532565861\n"
     ]
    }
   ],
   "source": [
    "for i in dependent_speaker_train:\n",
    "    if (i in dependent_speaker_val):\n",
    "        print(i)\n",
    "\n",
    "#전라M 만 한명 겹침"
   ]
  },
  {
   "cell_type": "code",
   "execution_count": null,
   "id": "a689ac1c-7ff9-4978-8886-61ba9678dd76",
   "metadata": {},
   "outputs": [],
   "source": []
  }
 ],
 "metadata": {
  "kernelspec": {
   "display_name": "whisper_kor",
   "language": "python",
   "name": "whisper_kor"
  },
  "language_info": {
   "codemirror_mode": {
    "name": "ipython",
    "version": 3
   },
   "file_extension": ".py",
   "mimetype": "text/x-python",
   "name": "python",
   "nbconvert_exporter": "python",
   "pygments_lexer": "ipython3",
   "version": "3.9.19"
  }
 },
 "nbformat": 4,
 "nbformat_minor": 5
}
